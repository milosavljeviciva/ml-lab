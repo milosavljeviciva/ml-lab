{
  "nbformat": 4,
  "nbformat_minor": 0,
  "metadata": {
    "colab": {
      "provenance": [],
      "include_colab_link": true
    },
    "kernelspec": {
      "name": "python3",
      "display_name": "Python 3"
    },
    "language_info": {
      "name": "python"
    }
  },
  "cells": [
    {
      "cell_type": "markdown",
      "metadata": {
        "id": "view-in-github",
        "colab_type": "text"
      },
      "source": [
        "<a href=\"https://colab.research.google.com/github/milosavljeviciva/ml-lab/blob/main/MLP.ipynb\" target=\"_parent\"><img src=\"https://colab.research.google.com/assets/colab-badge.svg\" alt=\"Open In Colab\"/></a>"
      ]
    },
    {
      "cell_type": "code",
      "execution_count": null,
      "metadata": {
        "id": "vvopt6oHjMEK"
      },
      "outputs": [],
      "source": [
        "import numpy as np\n",
        "import pandas as pd\n",
        "from matplotlib import pyplot as plt"
      ]
    },
    {
      "cell_type": "code",
      "source": [
        "data = pd.read_csv(\"./sample_data/mnist_train_small.csv\")"
      ],
      "metadata": {
        "id": "YqxAn9girGDp"
      },
      "execution_count": null,
      "outputs": []
    },
    {
      "cell_type": "code",
      "source": [
        "from sklearn.model_selection import train_test_split\n",
        "data = data.rename(columns={\"6\": \"label\"})\n",
        "data.head()\n",
        "print(data.shape)\n",
        "\n",
        "train, test = train_test_split(data, test_size=0.2)"
      ],
      "metadata": {
        "colab": {
          "base_uri": "https://localhost:8080/"
        },
        "id": "AKoVY9vkrpZO",
        "outputId": "d26a95de-b55d-45f3-bba2-0d1634d3b2dc"
      },
      "execution_count": null,
      "outputs": [
        {
          "output_type": "stream",
          "name": "stdout",
          "text": [
            "(19999, 785)\n"
          ]
        }
      ]
    },
    {
      "cell_type": "code",
      "source": [
        "train.hist(column='label')\n",
        "test.hist(column=\"label\")"
      ],
      "metadata": {
        "colab": {
          "base_uri": "https://localhost:8080/",
          "height": 905
        },
        "id": "avH6_Zo6svWA",
        "outputId": "48f1e913-e48b-4c49-e189-5dfade858bbc"
      },
      "execution_count": null,
      "outputs": [
        {
          "output_type": "execute_result",
          "data": {
            "text/plain": [
              "array([[<Axes: title={'center': 'label'}>]], dtype=object)"
            ]
          },
          "metadata": {},
          "execution_count": 235
        },
        {
          "output_type": "display_data",
          "data": {
            "text/plain": [
              "<Figure size 640x480 with 1 Axes>"
            ],
            "image/png": "[encoded data removed]"
          },
          "metadata": {}
        },
        {
          "output_type": "display_data",
          "data": {
            "text/plain": [
              "<Figure size 640x480 with 1 Axes>"
            ],
            "image/png": "[encoded data removed]"
          },
          "metadata": {}
        }
      ]
    },
    {
      "cell_type": "code",
      "source": [
        "train = np.array(train)\n",
        "test = np.array(test)\n",
        "\n",
        "train = train.T\n",
        "\n"
      ],
      "metadata": {
        "id": "kmUIN79htHfA"
      },
      "execution_count": null,
      "outputs": []
    },
    {
      "cell_type": "code",
      "source": [
        "y_train = train[0]\n",
        "X_train = train[1:]\n",
        "print(X_train.shape)\n",
        "m = X_train.shape[1]\n",
        "X_train = X_train / 255\n",
        "print(y_train)"
      ],
      "metadata": {
        "colab": {
          "base_uri": "https://localhost:8080/"
        },
        "id": "7dmz1Ihyh5nc",
        "outputId": "a1cc1028-5262-4151-b711-e06ec80d4f78"
      },
      "execution_count": null,
      "outputs": [
        {
          "output_type": "stream",
          "name": "stdout",
          "text": [
            "(784, 15999)\n",
            "[6 2 9 ... 4 4 5]\n"
          ]
        }
      ]
    },
    {
      "cell_type": "code",
      "source": [
        "def init_params():\n",
        "    W1 = np.random.rand(10, 784) - 0.5\n",
        "    b1 = np.random.rand(10, 1) - 0.5\n",
        "    W2 = np.random.rand(10, 10) - 0.5\n",
        "    b2 = np.random.rand(10, 1) - 0.5\n",
        "    return W1, b1, W2, b2\n",
        "\n",
        "def ReLU(Z):\n",
        "    return np.maximum(Z, 0)\n",
        "\n",
        "def softmax(Z):\n",
        "    A = np.exp(Z) / sum(np.exp(Z))\n",
        "    return A\n",
        "\n",
        "def forward_prop(W1, b1, W2, b2, X):\n",
        "    Z1 = W1.dot(X) + b1\n",
        "    A1 = ReLU(Z1)\n",
        "    Z2 = W2.dot(A1) + b2\n",
        "    A2 = softmax(Z2)\n",
        "    return Z1, A1, Z2, A2\n",
        "\n",
        "def ReLU_deriv(Z):\n",
        "    return Z > 0\n",
        "\n",
        "def one_hot(Y):\n",
        "    one_hot_Y = np.zeros((Y.size, Y.max() + 1))\n",
        "    one_hot_Y[np.arange(Y.size), Y] = 1\n",
        "    one_hot_Y = one_hot_Y.T\n",
        "    return one_hot_Y\n",
        "\n",
        "def backward_prop(Z1, A1, Z2, A2, W1, W2, X, Y):\n",
        "    one_hot_Y = one_hot(Y)\n",
        "    dZ2 = A2 - one_hot_Y\n",
        "    dW2 = 1 / m * dZ2.dot(A1.T)\n",
        "    db2 = 1 / m * np.sum(dZ2)\n",
        "    dZ1 = W2.T.dot(dZ2) * ReLU_deriv(Z1)\n",
        "    dW1 = 1 / m * dZ1.dot(X.T)\n",
        "    db1 = 1 / m * np.sum(dZ1)\n",
        "    return dW1, db1, dW2, db2\n",
        "\n",
        "def update_params(W1, b1, W2, b2, dW1, db1, dW2, db2, alpha):\n",
        "    W1 = W1 - alpha * dW1\n",
        "    b1 = b1 - alpha * db1\n",
        "    W2 = W2 - alpha * dW2\n",
        "    b2 = b2 - alpha * db2\n",
        "    return W1, b1, W2, b2\n",
        "\n",
        "def get_predictions(A2):\n",
        "    return np.argmax(A2, 0)\n",
        "\n",
        "def get_accuracy(predictions, Y):\n",
        "    print(predictions, Y)\n",
        "    return np.sum(predictions == Y) / Y.size\n",
        "\n",
        "def gradient_descent(X, Y, alpha, iterations):\n",
        "    W1, b1, W2, b2 = init_params()\n",
        "    for i in range(iterations):\n",
        "        Z1, A1, Z2, A2 = forward_prop(W1, b1, W2, b2, X)\n",
        "        dW1, db1, dW2, db2 = backward_prop(Z1, A1, Z2, A2, W1, W2, X, Y)\n",
        "        W1, b1, W2, b2 = update_params(W1, b1, W2, b2, dW1, db1, dW2, db2, alpha)\n",
        "        if i % 10 == 0:\n",
        "            print(\"Iteration: \", i)\n",
        "            predictions = get_predictions(A2)\n",
        "            print(get_accuracy(predictions, Y))\n",
        "    return W1, b1, W2, b2"
      ],
      "metadata": {
        "id": "6mA3rW5etX05"
      },
      "execution_count": null,
      "outputs": []
    },
    {
      "cell_type": "code",
      "source": [
        "W1, b1, W2, b2 = gradient_descent(X_train, y_train, 0.001, 100)"
      ],
      "metadata": {
        "colab": {
          "base_uri": "https://localhost:8080/"
        },
        "id": "w2tfBSS70Sg7",
        "outputId": "7d93b3f3-ad33-4188-ca66-a12ecf4c94af"
      },
      "execution_count": null,
      "outputs": [
        {
          "output_type": "stream",
          "name": "stdout",
          "text": [
            "Iteration:  0\n",
            "[1 4 5 ... 5 5 5] [6 2 9 ... 4 4 5]\n",
            "0.07700481280080004\n",
            "Iteration:  10\n",
            "[1 4 5 ... 5 5 5] [6 2 9 ... 4 4 5]\n",
            "0.07775485967872992\n",
            "Iteration:  20\n",
            "[1 4 5 ... 5 5 5] [6 2 9 ... 4 4 5]\n",
            "0.0790674417151072\n",
            "Iteration:  30\n",
            "[1 4 5 ... 5 5 5] [6 2 9 ... 4 4 5]\n",
            "0.08050503156447278\n",
            "Iteration:  40\n",
            "[1 4 5 ... 5 5 5] [6 2 9 ... 4 4 5]\n",
            "0.08219263703981498\n",
            "Iteration:  50\n",
            "[1 4 5 ... 5 5 5] [6 2 9 ... 4 4 5]\n",
            "0.08338021126320395\n",
            "Iteration:  60\n",
            "[1 4 5 ... 5 5 5] [6 2 9 ... 4 4 5]\n",
            "0.08450528158009876\n",
            "Iteration:  70\n",
            "[1 4 5 ... 5 5 5] [6 2 9 ... 4 4 5]\n",
            "0.08588036752297018\n",
            "Iteration:  80\n",
            "[1 4 5 ... 5 5 5] [6 2 9 ... 4 4 5]\n",
            "0.08838052378273642\n",
            "Iteration:  90\n",
            "[1 4 5 ... 5 5 5] [6 2 9 ... 4 4 5]\n",
            "0.089818113632102\n"
          ]
        }
      ]
    },
    {
      "cell_type": "code",
      "source": [
        "import torch\n",
        "import torch.nn as nn\n",
        "import torch.nn.functional as F\n",
        "\n",
        "class Model(nn.Module):\n",
        "    def __init__(self):\n",
        "        super().__init__()\n",
        "        self.net = nn.Sequential(\n",
        "            nn.Linear(784, 100),\n",
        "            nn.ReLU(),\n",
        "            nn.Linear(100, 10),\n",
        "            nn.Softmax()\n",
        "        )\n",
        "\n",
        "    def forward(self, x):\n",
        "        return self.net(x)\n",
        "\n",
        "    def predict(self, x):\n",
        "        out = self.forward(x)\n",
        "        out = torch.argmax(out, dim=1)\n",
        "        return out"
      ],
      "metadata": {
        "id": "XVVrHGyz9ygg"
      },
      "execution_count": null,
      "outputs": []
    },
    {
      "cell_type": "code",
      "source": [
        "import torch.nn.functional as F\n",
        "def fit(X, y, model, epoch, loss_fn, opt):\n",
        "    ohy = F.one_hot(y.to(torch.int64), 10).float()\n",
        "    for i in range(epoch):\n",
        "        loss = loss_fn(model.forward(X), ohy)\n",
        "        loss.backward()\n",
        "        opt.step()\n",
        "        opt.zero_grad()\n",
        "        # log performanse modela\n",
        "        out = model.predict(X)\n",
        "        print(out)\n",
        "        print(y)\n",
        "        acc = accuracy(out, y)\n",
        "        print(\"Accuracy: \", acc)\n",
        "\n",
        "def accuracy(pred, actual):\n",
        "    s = torch.sum(pred == actual)\n",
        "    return s.item() / len(actual)"
      ],
      "metadata": {
        "id": "oDiNcd2BBd4D"
      },
      "execution_count": null,
      "outputs": []
    },
    {
      "cell_type": "code",
      "source": [
        "import torch.optim as optim\n",
        "import torch.nn.functional as F\n",
        "import torch\n",
        "model = Model()\n",
        "epochs = 100\n",
        "lr = 1e-3\n",
        "opt = optim.Adam(model.parameters(), lr=lr)\n",
        "loss = F.cross_entropy\n",
        "\n",
        "X = torch.from_numpy(X_train.T).float()\n",
        "y = torch.from_numpy(y_train).long()\n",
        "fit(X, y, model, epochs, loss, opt)"
      ],
      "metadata": {
        "colab": {
          "base_uri": "https://localhost:8080/"
        },
        "id": "yOtNDO4y_mxE",
        "outputId": "b3923d0e-d5ed-4fc5-abe7-2633b1fd85dd"
      },
      "execution_count": null,
      "outputs": [
        {
          "output_type": "stream",
          "name": "stdout",
          "text": [
            "tensor([6, 6, 6,  ..., 6, 6, 2])\n",
            "tensor([6, 2, 9,  ..., 4, 4, 5])\n",
            "Accuracy:  0.2034502156384774\n",
            "tensor([6, 6, 9,  ..., 6, 6, 2])\n",
            "tensor([6, 2, 9,  ..., 4, 4, 5])\n",
            "Accuracy:  0.31745734108381773\n",
            "tensor([6, 6, 9,  ..., 6, 6, 2])\n",
            "tensor([6, 2, 9,  ..., 4, 4, 5])\n",
            "Accuracy:  0.4209638102381399\n",
            "tensor([6, 6, 9,  ..., 4, 6, 2])\n",
            "tensor([6, 2, 9,  ..., 4, 4, 5])\n",
            "Accuracy:  0.5079692480780049\n",
            "tensor([6, 3, 9,  ..., 4, 6, 2])\n",
            "tensor([6, 2, 9,  ..., 4, 4, 5])\n",
            "Accuracy:  0.5721607600475029\n",
            "tensor([6, 3, 9,  ..., 4, 6, 2])\n",
            "tensor([6, 2, 9,  ..., 4, 4, 5])\n",
            "Accuracy:  0.6092255765985374\n",
            "tensor([6, 3, 9,  ..., 6, 6, 2])\n",
            "tensor([6, 2, 9,  ..., 4, 4, 5])\n",
            "Accuracy:  0.6223513969623101\n",
            "tensor([6, 3, 9,  ..., 6, 6, 2])\n",
            "tensor([6, 2, 9,  ..., 4, 4, 5])\n",
            "Accuracy:  0.6264766547909244\n",
            "tensor([6, 3, 9,  ..., 6, 6, 2])\n",
            "tensor([6, 2, 9,  ..., 4, 4, 5])\n",
            "Accuracy:  0.6229139321207575\n",
            "tensor([6, 3, 9,  ..., 6, 6, 2])\n",
            "tensor([6, 2, 9,  ..., 4, 4, 5])\n",
            "Accuracy:  0.6152259516219764\n",
            "tensor([6, 3, 7,  ..., 6, 6, 2])\n",
            "tensor([6, 2, 9,  ..., 4, 4, 5])\n",
            "Accuracy:  0.606662916432277\n",
            "tensor([6, 3, 7,  ..., 6, 6, 2])\n",
            "tensor([6, 2, 9,  ..., 4, 4, 5])\n",
            "Accuracy:  0.5973498343646478\n",
            "tensor([6, 3, 7,  ..., 6, 6, 2])\n",
            "tensor([6, 2, 9,  ..., 4, 4, 5])\n",
            "Accuracy:  0.5898493655853491\n",
            "tensor([6, 3, 7,  ..., 6, 6, 2])\n",
            "tensor([6, 2, 9,  ..., 4, 4, 5])\n",
            "Accuracy:  0.5831614475904744\n",
            "tensor([6, 3, 7,  ..., 6, 6, 2])\n",
            "tensor([6, 2, 9,  ..., 4, 4, 5])\n",
            "Accuracy:  0.5799112444527783\n",
            "tensor([6, 3, 7,  ..., 6, 6, 7])\n",
            "tensor([6, 2, 9,  ..., 4, 4, 5])\n",
            "Accuracy:  0.5802237639852491\n",
            "tensor([6, 3, 7,  ..., 6, 6, 2])\n",
            "tensor([6, 2, 9,  ..., 4, 4, 5])\n",
            "Accuracy:  0.5832239514969686\n",
            "tensor([6, 3, 7,  ..., 6, 6, 2])\n",
            "tensor([6, 2, 9,  ..., 4, 4, 5])\n",
            "Accuracy:  0.5889743108944309\n",
            "tensor([6, 3, 7,  ..., 6, 6, 2])\n",
            "tensor([6, 2, 9,  ..., 4, 4, 5])\n",
            "Accuracy:  0.5960372523282705\n",
            "tensor([6, 3, 7,  ..., 6, 6, 2])\n",
            "tensor([6, 2, 9,  ..., 4, 4, 5])\n",
            "Accuracy:  0.6044127757984874\n",
            "tensor([6, 3, 7,  ..., 4, 6, 2])\n",
            "tensor([6, 2, 9,  ..., 4, 4, 5])\n",
            "Accuracy:  0.6153509594349647\n",
            "tensor([6, 3, 7,  ..., 4, 6, 2])\n",
            "tensor([6, 2, 9,  ..., 4, 4, 5])\n",
            "Accuracy:  0.6264766547909244\n",
            "tensor([6, 3, 7,  ..., 4, 6, 2])\n",
            "tensor([6, 2, 9,  ..., 4, 4, 5])\n",
            "Accuracy:  0.6402275142196387\n",
            "tensor([6, 2, 7,  ..., 4, 6, 2])\n",
            "tensor([6, 2, 9,  ..., 4, 4, 5])\n",
            "Accuracy:  0.6542908931808238\n",
            "tensor([6, 2, 7,  ..., 4, 4, 2])\n",
            "tensor([6, 2, 9,  ..., 4, 4, 5])\n",
            "Accuracy:  0.6634789674354648\n",
            "tensor([6, 2, 7,  ..., 4, 4, 2])\n",
            "tensor([6, 2, 9,  ..., 4, 4, 5])\n",
            "Accuracy:  0.673229576848553\n",
            "tensor([6, 2, 7,  ..., 4, 4, 2])\n",
            "tensor([6, 2, 9,  ..., 4, 4, 5])\n",
            "Accuracy:  0.6807925495343459\n",
            "tensor([6, 2, 9,  ..., 4, 4, 2])\n",
            "tensor([6, 2, 9,  ..., 4, 4, 5])\n",
            "Accuracy:  0.6889180573785861\n",
            "tensor([6, 2, 9,  ..., 4, 4, 2])\n",
            "tensor([6, 2, 9,  ..., 4, 4, 5])\n",
            "Accuracy:  0.6956059753734608\n",
            "tensor([6, 2, 9,  ..., 4, 4, 2])\n",
            "tensor([6, 2, 9,  ..., 4, 4, 5])\n",
            "Accuracy:  0.701668854303394\n",
            "tensor([6, 2, 9,  ..., 4, 4, 2])\n",
            "tensor([6, 2, 9,  ..., 4, 4, 5])\n",
            "Accuracy:  0.7086067879242453\n",
            "tensor([6, 2, 9,  ..., 4, 4, 2])\n",
            "tensor([6, 2, 9,  ..., 4, 4, 5])\n",
            "Accuracy:  0.7148571785736608\n",
            "tensor([6, 2, 9,  ..., 4, 4, 2])\n",
            "tensor([6, 2, 9,  ..., 4, 4, 5])\n",
            "Accuracy:  0.722920182511407\n",
            "tensor([6, 2, 9,  ..., 4, 4, 2])\n",
            "tensor([6, 2, 9,  ..., 4, 4, 5])\n",
            "Accuracy:  0.7324207762985186\n",
            "tensor([6, 2, 9,  ..., 4, 4, 2])\n",
            "tensor([6, 2, 9,  ..., 4, 4, 5])\n",
            "Accuracy:  0.7411713232077005\n",
            "tensor([6, 2, 9,  ..., 4, 4, 2])\n",
            "tensor([6, 2, 9,  ..., 4, 4, 5])\n",
            "Accuracy:  0.7524845302831427\n",
            "tensor([6, 2, 9,  ..., 4, 4, 2])\n",
            "tensor([6, 2, 9,  ..., 4, 4, 5])\n",
            "Accuracy:  0.7612350771923245\n",
            "tensor([6, 2, 9,  ..., 4, 4, 2])\n",
            "tensor([6, 2, 9,  ..., 4, 4, 5])\n",
            "Accuracy:  0.7679229951871992\n",
            "tensor([6, 2, 9,  ..., 4, 4, 2])\n",
            "tensor([6, 2, 9,  ..., 4, 4, 5])\n",
            "Accuracy:  0.773860866304144\n",
            "tensor([6, 2, 9,  ..., 4, 4, 2])\n",
            "tensor([6, 2, 9,  ..., 4, 4, 5])\n",
            "Accuracy:  0.7769235577223577\n",
            "tensor([6, 2, 9,  ..., 4, 4, 2])\n",
            "tensor([6, 2, 9,  ..., 4, 4, 5])\n",
            "Accuracy:  0.7779861241327582\n",
            "tensor([6, 2, 9,  ..., 4, 4, 2])\n",
            "tensor([6, 2, 9,  ..., 4, 4, 5])\n",
            "Accuracy:  0.7800487530470654\n",
            "tensor([6, 2, 9,  ..., 4, 4, 2])\n",
            "tensor([6, 2, 9,  ..., 4, 4, 5])\n",
            "Accuracy:  0.7836114757172323\n",
            "tensor([6, 2, 9,  ..., 4, 4, 2])\n",
            "tensor([6, 2, 9,  ..., 4, 4, 5])\n",
            "Accuracy:  0.7871741983873992\n",
            "tensor([6, 2, 9,  ..., 4, 4, 2])\n",
            "tensor([6, 2, 9,  ..., 4, 4, 5])\n",
            "Accuracy:  0.7892993312082005\n",
            "tensor([6, 2, 9,  ..., 4, 4, 2])\n",
            "tensor([6, 2, 9,  ..., 4, 4, 5])\n",
            "Accuracy:  0.7911744484030252\n",
            "tensor([6, 2, 9,  ..., 4, 4, 2])\n",
            "tensor([6, 2, 9,  ..., 4, 4, 5])\n",
            "Accuracy:  0.7935495968498031\n",
            "tensor([6, 2, 9,  ..., 4, 4, 2])\n",
            "tensor([6, 2, 9,  ..., 4, 4, 5])\n",
            "Accuracy:  0.7950496906056629\n",
            "tensor([6, 2, 9,  ..., 4, 4, 2])\n",
            "tensor([6, 2, 9,  ..., 4, 4, 5])\n",
            "Accuracy:  0.7975498468654291\n",
            "tensor([6, 2, 9,  ..., 4, 4, 2])\n",
            "tensor([6, 2, 9,  ..., 4, 4, 5])\n",
            "Accuracy:  0.7999874992187012\n",
            "tensor([6, 2, 9,  ..., 4, 4, 2])\n",
            "tensor([6, 2, 9,  ..., 4, 4, 5])\n",
            "Accuracy:  0.8034252140758797\n",
            "tensor([6, 2, 9,  ..., 4, 4, 2])\n",
            "tensor([6, 2, 9,  ..., 4, 4, 5])\n",
            "Accuracy:  0.8093630851928245\n",
            "tensor([6, 2, 9,  ..., 4, 4, 2])\n",
            "tensor([6, 2, 9,  ..., 4, 4, 5])\n",
            "Accuracy:  0.8154884680292518\n",
            "tensor([6, 2, 9,  ..., 4, 4, 2])\n",
            "tensor([6, 2, 9,  ..., 4, 4, 5])\n",
            "Accuracy:  0.8219888743046441\n",
            "tensor([6, 2, 9,  ..., 4, 4, 2])\n",
            "tensor([6, 2, 9,  ..., 4, 4, 5])\n",
            "Accuracy:  0.8294893430839427\n",
            "tensor([6, 2, 9,  ..., 4, 4, 2])\n",
            "tensor([6, 2, 9,  ..., 4, 4, 5])\n",
            "Accuracy:  0.8370523157697356\n",
            "tensor([6, 2, 9,  ..., 4, 4, 2])\n",
            "tensor([6, 2, 9,  ..., 4, 4, 5])\n",
            "Accuracy:  0.8433652103256454\n",
            "tensor([6, 2, 9,  ..., 4, 4, 2])\n",
            "tensor([6, 2, 9,  ..., 4, 4, 5])\n",
            "Accuracy:  0.8505531595724732\n",
            "tensor([6, 2, 9,  ..., 4, 4, 2])\n",
            "tensor([6, 2, 9,  ..., 4, 4, 5])\n",
            "Accuracy:  0.8549909369335583\n",
            "tensor([6, 2, 9,  ..., 4, 4, 2])\n",
            "tensor([6, 2, 9,  ..., 4, 4, 5])\n",
            "Accuracy:  0.8590536908556785\n",
            "tensor([6, 2, 9,  ..., 4, 4, 2])\n",
            "tensor([6, 2, 9,  ..., 4, 4, 5])\n",
            "Accuracy:  0.860866304144009\n",
            "tensor([6, 2, 9,  ..., 4, 4, 2])\n",
            "tensor([6, 2, 9,  ..., 4, 4, 5])\n",
            "Accuracy:  0.862053878367398\n",
            "tensor([6, 2, 9,  ..., 4, 4, 2])\n",
            "tensor([6, 2, 9,  ..., 4, 4, 5])\n",
            "Accuracy:  0.8644290268141759\n",
            "tensor([6, 2, 9,  ..., 4, 4, 2])\n",
            "tensor([6, 2, 9,  ..., 4, 4, 5])\n",
            "Accuracy:  0.866054128383024\n",
            "tensor([6, 2, 9,  ..., 4, 4, 2])\n",
            "tensor([6, 2, 9,  ..., 4, 4, 5])\n",
            "Accuracy:  0.866866679167448\n",
            "tensor([6, 2, 9,  ..., 4, 4, 2])\n",
            "tensor([6, 2, 9,  ..., 4, 4, 5])\n",
            "Accuracy:  0.8681792612038253\n",
            "tensor([6, 2, 9,  ..., 4, 4, 2])\n",
            "tensor([6, 2, 9,  ..., 4, 4, 5])\n",
            "Accuracy:  0.8681792612038253\n",
            "tensor([6, 2, 9,  ..., 4, 4, 2])\n",
            "tensor([6, 2, 9,  ..., 4, 4, 5])\n",
            "Accuracy:  0.8688043002687668\n",
            "tensor([6, 2, 9,  ..., 4, 4, 2])\n",
            "tensor([6, 2, 9,  ..., 4, 4, 5])\n",
            "Accuracy:  0.8707419213700857\n",
            "tensor([6, 2, 9,  ..., 4, 4, 2])\n",
            "tensor([6, 2, 9,  ..., 4, 4, 5])\n",
            "Accuracy:  0.8729920620038752\n",
            "tensor([6, 2, 9,  ..., 4, 4, 2])\n",
            "tensor([6, 2, 9,  ..., 4, 4, 5])\n",
            "Accuracy:  0.8754922182636414\n",
            "tensor([6, 2, 9,  ..., 4, 4, 2])\n",
            "tensor([6, 2, 9,  ..., 4, 4, 5])\n",
            "Accuracy:  0.8784299018688668\n",
            "tensor([6, 2, 9,  ..., 4, 4, 2])\n",
            "tensor([6, 2, 9,  ..., 4, 4, 5])\n",
            "Accuracy:  0.880117507344209\n",
            "tensor([6, 2, 9,  ..., 4, 4, 2])\n",
            "tensor([6, 2, 9,  ..., 4, 4, 5])\n",
            "Accuracy:  0.8836177261078817\n",
            "tensor([6, 2, 9,  ..., 4, 4, 2])\n",
            "tensor([6, 2, 9,  ..., 4, 4, 5])\n",
            "Accuracy:  0.8854928433027064\n",
            "tensor([6, 2, 9,  ..., 4, 4, 2])\n",
            "tensor([6, 2, 9,  ..., 4, 4, 5])\n",
            "Accuracy:  0.8867429214325895\n",
            "tensor([6, 2, 9,  ..., 4, 4, 2])\n",
            "tensor([6, 2, 9,  ..., 4, 4, 5])\n",
            "Accuracy:  0.8883680230014376\n",
            "tensor([6, 2, 9,  ..., 4, 4, 2])\n",
            "tensor([6, 2, 9,  ..., 4, 4, 5])\n",
            "Accuracy:  0.890118132383274\n",
            "tensor([6, 2, 9,  ..., 4, 4, 2])\n",
            "tensor([6, 2, 9,  ..., 4, 4, 5])\n",
            "Accuracy:  0.8919307456716045\n",
            "tensor([6, 2, 9,  ..., 4, 4, 2])\n",
            "tensor([6, 2, 9,  ..., 4, 4, 5])\n",
            "Accuracy:  0.8926807925495344\n",
            "tensor([6, 2, 9,  ..., 4, 4, 2])\n",
            "tensor([6, 2, 9,  ..., 4, 4, 5])\n",
            "Accuracy:  0.893743358959935\n",
            "tensor([6, 2, 9,  ..., 4, 4, 2])\n",
            "tensor([6, 2, 9,  ..., 4, 4, 5])\n",
            "Accuracy:  0.8945559097443591\n",
            "tensor([6, 2, 9,  ..., 4, 4, 2])\n",
            "tensor([6, 2, 9,  ..., 4, 4, 5])\n",
            "Accuracy:  0.8943058941183823\n",
            "tensor([6, 2, 9,  ..., 4, 4, 2])\n",
            "tensor([6, 2, 9,  ..., 4, 4, 5])\n",
            "Accuracy:  0.8948684292768297\n",
            "tensor([6, 2, 9,  ..., 4, 4, 2])\n",
            "tensor([6, 2, 9,  ..., 4, 4, 5])\n",
            "Accuracy:  0.8957434839677479\n",
            "tensor([6, 2, 9,  ..., 4, 4, 2])\n",
            "tensor([6, 2, 9,  ..., 4, 4, 5])\n",
            "Accuracy:  0.8966810425651603\n",
            "tensor([6, 2, 9,  ..., 4, 4, 2])\n",
            "tensor([6, 2, 9,  ..., 4, 4, 5])\n",
            "Accuracy:  0.897368585536596\n",
            "tensor([6, 2, 9,  ..., 4, 4, 2])\n",
            "tensor([6, 2, 9,  ..., 4, 4, 5])\n",
            "Accuracy:  0.8974310894430902\n",
            "tensor([6, 2, 9,  ..., 4, 4, 2])\n",
            "tensor([6, 2, 9,  ..., 4, 4, 5])\n",
            "Accuracy:  0.8984936558534908\n",
            "tensor([6, 2, 9,  ..., 4, 4, 2])\n",
            "tensor([6, 2, 9,  ..., 4, 4, 5])\n",
            "Accuracy:  0.8990561910119382\n",
            "tensor([6, 2, 9,  ..., 4, 4, 2])\n",
            "tensor([6, 2, 9,  ..., 4, 4, 5])\n",
            "Accuracy:  0.8999937496093506\n",
            "tensor([6, 2, 9,  ..., 4, 4, 2])\n",
            "tensor([6, 2, 9,  ..., 4, 4, 5])\n",
            "Accuracy:  0.900556284767798\n",
            "tensor([6, 2, 9,  ..., 4, 4, 2])\n",
            "tensor([6, 2, 9,  ..., 4, 4, 5])\n",
            "Accuracy:  0.9014938433652103\n",
            "tensor([6, 2, 9,  ..., 4, 4, 2])\n",
            "tensor([6, 2, 9,  ..., 4, 4, 5])\n",
            "Accuracy:  0.9024314019626226\n",
            "tensor([6, 2, 9,  ..., 4, 4, 2])\n",
            "tensor([6, 2, 9,  ..., 4, 4, 5])\n",
            "Accuracy:  0.903368960560035\n",
            "tensor([6, 2, 9,  ..., 4, 4, 2])\n",
            "tensor([6, 2, 9,  ..., 4, 4, 5])\n",
            "Accuracy:  0.9043065191574473\n",
            "tensor([6, 2, 9,  ..., 4, 4, 2])\n",
            "tensor([6, 2, 9,  ..., 4, 4, 5])\n",
            "Accuracy:  0.9043065191574473\n",
            "tensor([6, 2, 9,  ..., 4, 4, 2])\n",
            "tensor([6, 2, 9,  ..., 4, 4, 5])\n",
            "Accuracy:  0.9046815425964123\n",
            "tensor([6, 2, 9,  ..., 4, 4, 2])\n",
            "tensor([6, 2, 9,  ..., 4, 4, 5])\n",
            "Accuracy:  0.904994062128883\n",
            "tensor([6, 2, 9,  ..., 4, 4, 2])\n",
            "tensor([6, 2, 9,  ..., 4, 4, 5])\n",
            "Accuracy:  0.9056191011938246\n"
          ]
        }
      ]
    }
  ]
}